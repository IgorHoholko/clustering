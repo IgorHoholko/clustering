{
 "cells": [
  {
   "cell_type": "code",
   "execution_count": 68,
   "metadata": {},
   "outputs": [],
   "source": [
    "import numpy as np\n",
    "from numpy import array\n",
    "from scipy.spatial.distance import cosine, cdist\n",
    "\n",
    "from graph import Graph\n",
    "\n",
    "import operator\n",
    "import pickle\n",
    "import os\n",
    "import re"
   ]
  },
  {
   "cell_type": "code",
   "execution_count": 67,
   "metadata": {},
   "outputs": [],
   "source": [
    "def load_features(path_to_features):\n",
    "    FEATURES_DIR = path_to_features\n",
    "    def _extract_id(pkl):\n",
    "        pkl_pattern = \"_([0-9]+)_\"\n",
    "        return int(re.findall(pkl_pattern, pkl)[0])\n",
    "\n",
    "\n",
    "    pkls_names = os.listdir(FEATURES_DIR)\n",
    "    pkls_ids = []\n",
    "    X = None\n",
    "\n",
    "    for pkl in pkls_names:\n",
    "        pkls_ids.append(_extract_id(pkl))\n",
    "\n",
    "\n",
    "    pkls_names = [k for k, v in sorted(zip(pkls_names, pkls_ids), key=operator.itemgetter(1))]\n",
    "\n",
    "    for pkl in pkls_names:\n",
    "        path_to_pickle_file = os.path.join(FEATURES_DIR, pkl)\n",
    "        with open(path_to_pickle_file, 'rb') as pickle_file:\n",
    "            x = pickle.load(pickle_file)\n",
    "            if X is not None:\n",
    "                X = np.vstack((X, x))\n",
    "            else:\n",
    "                X = x\n",
    "\n",
    "    return np.array(X)"
   ]
  },
  {
   "cell_type": "code",
   "execution_count": null,
   "metadata": {},
   "outputs": [],
   "source": []
  },
  {
   "cell_type": "code",
   "execution_count": null,
   "metadata": {},
   "outputs": [],
   "source": []
  },
  {
   "cell_type": "code",
   "execution_count": 75,
   "metadata": {},
   "outputs": [
    {
     "data": {
      "text/plain": [
       "(173301, 2048)"
      ]
     },
     "execution_count": 75,
     "metadata": {},
     "output_type": "execute_result"
    }
   ],
   "source": [
    "X_ = load_features('./features/')\n",
    "X_.shape"
   ]
  },
  {
   "cell_type": "code",
   "execution_count": 104,
   "metadata": {},
   "outputs": [],
   "source": [
    "T_c = .8\n",
    "T_s = 0.7\n",
    "T_p = .1\n",
    "\n",
    "\n",
    "\n",
    "class SubClusters:\n",
    "    def __init__(self):\n",
    "        self.id_curr = None\n",
    "        self.idxs_points = None\n",
    "        self.points_sum = None\n",
    "        self.k_list = None\n",
    "        self.centers = None\n",
    "    \n",
    "    def init(self, x):\n",
    "        self.id_curr = 0\n",
    "        self.idxs_points = [[0]]\n",
    "        self.points_sum = array([x])\n",
    "        self.k_list = array([1])\n",
    "        self.centers = array([x])\n",
    "        return self\n",
    "    \n",
    "        \n",
    "    def update(self, i, x):\n",
    "        self.idxs_points[i].append(self.id_curr)\n",
    "        self.points_sum[i] += x\n",
    "        self.k_list[i] += 1\n",
    "        self.centers[i] = self._recompute_center(self.points_sum[i], self.k_list[i])\n",
    "        self.id_curr += 1\n",
    "        return self\n",
    "        \n",
    "        \n",
    "    def add(self, x):\n",
    "        self.idxs_points.append([self.id_curr])\n",
    "        self.points_sum.append(x)\n",
    "        self.k_list.append(1)\n",
    "        self.centers.append(x)\n",
    "        self.id_curr += 1\n",
    "        return self\n",
    "        \n",
    "        \n",
    "    def join(self, i, j):\n",
    "        p_new = self.points_sum[i] + self.points_sum[j]\n",
    "        k_new = self.k_list[i] + self.k_list[j]\n",
    "        center_new = self._recompute_center(p_new, k_new)\n",
    "        idxs_new = self.idxs_points[i] + self.idxs_points[j]\n",
    "        \n",
    "        self.points_sum[i] = p_new\n",
    "        self.k_list[i] = k_new\n",
    "        self.centers[i] = center_new\n",
    "        self.idxs_points[i] = idxs_new\n",
    "        \n",
    "        np.delete(self.points_sum, j)\n",
    "        np.delete(self.k_list, j)\n",
    "        np.delete(self.centers, j)\n",
    "        self.idxs_points.pop(j)\n",
    "        return self\n",
    "        \n",
    "        \n",
    "    def _recompute_center(self, points_sum, k):\n",
    "        new_c = points_sum / np.sqrt( k**2*T_c**2 + k*(1-T_c**2) )\n",
    "        return new_c\n",
    "        \n",
    "\n",
    "\n",
    "class Links:\n",
    "    \n",
    "    def __init__(self, ):\n",
    "        \n",
    "        self.G = Graph()\n",
    "        self.SubClusters = SubClusters()\n",
    "        \n",
    "        \n",
    "    def __add__(self, x):\n",
    "        pass\n",
    "    \n",
    "    def __s_k_k(k, k_):\n",
    "        return 1 / np.sqrt( (1 + (1/T_c**2-1)/k) * (1 + (1/T_c**2-1)/k_) )\n",
    "        \n",
    "    def __s_k_approximate(k, k_):\n",
    "        return T_c**2  +  (T_p-T_c**2) * (self.__s_k(k, k_)-T_c**2) / (1-T_c**2)\n",
    "    \n",
    "    def __s_k_approximate(k):\n",
    "        return self.__s_k_approximate(k, 1)\n",
    "    \n",
    "    def __check_subclusters(self):\n",
    "        while True:\n",
    "            centers = self.SubClusters.centers\n",
    "            A = np.dot(centers.T, centers)\n",
    "            A[np.arange(len(A)), np.arange(len(A))] = 0\n",
    "            idxs = np.where(A >= T_s)\n",
    "\n",
    "            if idxs[0].any():\n",
    "                i = idxs[0][0]\n",
    "                j = idxs[0][1]\n",
    "                i_ = min(i, j)\n",
    "                j_ = max(i, j)\n",
    "                self.SubClusters.join(i_, j_)\n",
    "                \n",
    "                v_be_affected = G.AM[j_]\n",
    "                v_be_affected = np.where(v_be_affected != 0)\n",
    "                v_be_affected[np.where(v_be_affected > j_)] -=1\n",
    "                self.G.remove_v(j_)\n",
    "                \n",
    "                C = self.SubClusters.centers[i_]\n",
    "                K = self.SubClusters.k_list[i_]\n",
    "                affected_centers = self.SubClusters.centers[v_be_affected]\n",
    "                affected_K = self.SubClusters.k_list[v_be_affected]\n",
    "                \n",
    "                D = [np.dot(a, affected_centers.T)]\n",
    "                idxs_connected = [d >= self.__s_k_approximate(K, k) for k in affected_K]\n",
    "                idxs_connected = np.where(idxs_connected)\n",
    "                self.G.add_adj({i_: idxs_connected})\n",
    "                \n",
    "            else:\n",
    "                break\n",
    "        \n",
    "    \n",
    "    def _add(self, centers, x):\n",
    "        print(centers.shape, x.shape)\n",
    "        J = np.dot(x, centers.T).argmax()\n",
    "        C = centers[J]\n",
    "        # !!!!check for norm\n",
    "        d = np.dot(C, x)\n",
    "        \n",
    "        # (20) if add to exist subcluster\n",
    "        if d >= T_s:\n",
    "            # add\n",
    "            self.SubClusters.update(J, x)\n",
    "            self.__check_subclusters()\n",
    "        else:\n",
    "            # create new subcluster\n",
    "            self.SubClusters.add(x)\n",
    "            n = len(self.SubClusters.centers)\n",
    "            k = self.SubClusters.k_list[J]\n",
    "            i = n - 1\n",
    "            self.G.add_v(i)\n",
    "            \n",
    "            if d >= self.__s_k_approximate(k):\n",
    "                self.G.add_adj( { J:i } )\n",
    "        \n",
    "    \n",
    "    def add(self, x):\n",
    "        centers = self.SubClusters.centers\n",
    "        if not hasattr(centers, '__len__'):\n",
    "            self.SubClusters.init(x)\n",
    "            self.G.add_v(0)\n",
    "        \n",
    "        else:\n",
    "            self._add(centers, x)\n",
    "        \n",
    "            \n"
   ]
  },
  {
   "cell_type": "code",
   "execution_count": 105,
   "metadata": {},
   "outputs": [],
   "source": [
    "X = X_[:790]"
   ]
  },
  {
   "cell_type": "code",
   "execution_count": 106,
   "metadata": {},
   "outputs": [
    {
     "name": "stdout",
     "output_type": "stream",
     "text": [
      "{'node_color': 'black', 'font_color': 'w', 'font_weight': 'bold'}\n"
     ]
    }
   ],
   "source": [
    "L = Links()"
   ]
  },
  {
   "cell_type": "code",
   "execution_count": 110,
   "metadata": {},
   "outputs": [
    {
     "data": {
      "image/png": "[encoded data removed]",
      "text/plain": [
       "<Figure size 432x288 with 1 Axes>"
      ]
     },
     "metadata": {},
     "output_type": "display_data"
    }
   ],
   "source": [
    "L.G.draw()"
   ]
  },
  {
   "cell_type": "code",
   "execution_count": 111,
   "metadata": {},
   "outputs": [
    {
     "data": {
      "text/plain": [
       "[[0,\n",
       "  0,\n",
       "  1,\n",
       "  2,\n",
       "  3,\n",
       "  4,\n",
       "  5,\n",
       "  6,\n",
       "  7,\n",
       "  8,\n",
       "  9,\n",
       "  10,\n",
       "  11,\n",
       "  12,\n",
       "  13,\n",
       "  14,\n",
       "  15,\n",
       "  16,\n",
       "  17,\n",
       "  18,\n",
       "  19,\n",
       "  20,\n",
       "  21,\n",
       "  22,\n",
       "  23],\n",
       " [24]]"
      ]
     },
     "execution_count": 111,
     "metadata": {},
     "output_type": "execute_result"
    }
   ],
   "source": [
    "L.SubClusters.idxs_points"
   ]
  },
  {
   "cell_type": "code",
   "execution_count": 107,
   "metadata": {},
   "outputs": [
    {
     "name": "stdout",
     "output_type": "stream",
     "text": [
      "(1, 2048) (2048,)\n",
      "(1, 2048) (2048,)\n",
      "(1, 2048) (2048,)\n",
      "(1, 2048) (2048,)\n",
      "(1, 2048) (2048,)\n",
      "(1, 2048) (2048,)\n",
      "(1, 2048) (2048,)\n",
      "(1, 2048) (2048,)\n",
      "(1, 2048) (2048,)\n",
      "(1, 2048) (2048,)\n",
      "(1, 2048) (2048,)\n",
      "(1, 2048) (2048,)\n",
      "(1, 2048) (2048,)\n",
      "(1, 2048) (2048,)\n",
      "(1, 2048) (2048,)\n",
      "(1, 2048) (2048,)\n",
      "(1, 2048) (2048,)\n",
      "(1, 2048) (2048,)\n",
      "(1, 2048) (2048,)\n",
      "(1, 2048) (2048,)\n",
      "(1, 2048) (2048,)\n",
      "(1, 2048) (2048,)\n",
      "(1, 2048) (2048,)\n",
      "(1, 2048) (2048,)\n",
      "(1, 2048) (2048,)\n"
     ]
    },
    {
     "ename": "AttributeError",
     "evalue": "'numpy.ndarray' object has no attribute 'append'",
     "output_type": "error",
     "traceback": [
      "\u001b[0;31m---------------------------------------------------------------------------\u001b[0m",
      "\u001b[0;31mAttributeError\u001b[0m                            Traceback (most recent call last)",
      "\u001b[0;32m<ipython-input-107-e0f2411f095d>\u001b[0m in \u001b[0;36m<module>\u001b[0;34m\u001b[0m\n\u001b[1;32m      1\u001b[0m \u001b[0;32mfor\u001b[0m \u001b[0mx\u001b[0m \u001b[0;32min\u001b[0m \u001b[0mX\u001b[0m\u001b[0;34m:\u001b[0m\u001b[0;34m\u001b[0m\u001b[0;34m\u001b[0m\u001b[0m\n\u001b[1;32m      2\u001b[0m     \u001b[0mx\u001b[0m \u001b[0;34m=\u001b[0m \u001b[0mx\u001b[0m \u001b[0;34m/\u001b[0m \u001b[0mnp\u001b[0m\u001b[0;34m.\u001b[0m\u001b[0mlinalg\u001b[0m\u001b[0;34m.\u001b[0m\u001b[0mnorm\u001b[0m\u001b[0;34m(\u001b[0m\u001b[0mx\u001b[0m\u001b[0;34m)\u001b[0m\u001b[0;34m\u001b[0m\u001b[0;34m\u001b[0m\u001b[0m\n\u001b[0;32m----> 3\u001b[0;31m     \u001b[0mL\u001b[0m\u001b[0;34m.\u001b[0m\u001b[0madd\u001b[0m\u001b[0;34m(\u001b[0m\u001b[0mx\u001b[0m\u001b[0;34m)\u001b[0m\u001b[0;34m\u001b[0m\u001b[0;34m\u001b[0m\u001b[0m\n\u001b[0m",
      "\u001b[0;32m<ipython-input-104-ad8f1d13f43b>\u001b[0m in \u001b[0;36madd\u001b[0;34m(self, x)\u001b[0m\n\u001b[1;32m    148\u001b[0m \u001b[0;34m\u001b[0m\u001b[0m\n\u001b[1;32m    149\u001b[0m         \u001b[0;32melse\u001b[0m\u001b[0;34m:\u001b[0m\u001b[0;34m\u001b[0m\u001b[0;34m\u001b[0m\u001b[0m\n\u001b[0;32m--> 150\u001b[0;31m             \u001b[0mself\u001b[0m\u001b[0;34m.\u001b[0m\u001b[0m_add\u001b[0m\u001b[0;34m(\u001b[0m\u001b[0mcenters\u001b[0m\u001b[0;34m,\u001b[0m \u001b[0mx\u001b[0m\u001b[0;34m)\u001b[0m\u001b[0;34m\u001b[0m\u001b[0;34m\u001b[0m\u001b[0m\n\u001b[0m\u001b[1;32m    151\u001b[0m \u001b[0;34m\u001b[0m\u001b[0m\n\u001b[1;32m    152\u001b[0m \u001b[0;34m\u001b[0m\u001b[0m\n",
      "\u001b[0;32m<ipython-input-104-ad8f1d13f43b>\u001b[0m in \u001b[0;36m_add\u001b[0;34m(self, centers, x)\u001b[0m\n\u001b[1;32m    131\u001b[0m         \u001b[0;32melse\u001b[0m\u001b[0;34m:\u001b[0m\u001b[0;34m\u001b[0m\u001b[0;34m\u001b[0m\u001b[0m\n\u001b[1;32m    132\u001b[0m             \u001b[0;31m# create new subcluster\u001b[0m\u001b[0;34m\u001b[0m\u001b[0;34m\u001b[0m\u001b[0;34m\u001b[0m\u001b[0m\n\u001b[0;32m--> 133\u001b[0;31m             \u001b[0mself\u001b[0m\u001b[0;34m.\u001b[0m\u001b[0mSubClusters\u001b[0m\u001b[0;34m.\u001b[0m\u001b[0madd\u001b[0m\u001b[0;34m(\u001b[0m\u001b[0mx\u001b[0m\u001b[0;34m)\u001b[0m\u001b[0;34m\u001b[0m\u001b[0;34m\u001b[0m\u001b[0m\n\u001b[0m\u001b[1;32m    134\u001b[0m             \u001b[0mn\u001b[0m \u001b[0;34m=\u001b[0m \u001b[0mlen\u001b[0m\u001b[0;34m(\u001b[0m\u001b[0mself\u001b[0m\u001b[0;34m.\u001b[0m\u001b[0mSubClusters\u001b[0m\u001b[0;34m.\u001b[0m\u001b[0mcenters\u001b[0m\u001b[0;34m)\u001b[0m\u001b[0;34m\u001b[0m\u001b[0;34m\u001b[0m\u001b[0m\n\u001b[1;32m    135\u001b[0m             \u001b[0mk\u001b[0m \u001b[0;34m=\u001b[0m \u001b[0mself\u001b[0m\u001b[0;34m.\u001b[0m\u001b[0mSubClusters\u001b[0m\u001b[0;34m.\u001b[0m\u001b[0mk_list\u001b[0m\u001b[0;34m[\u001b[0m\u001b[0mJ\u001b[0m\u001b[0;34m]\u001b[0m\u001b[0;34m\u001b[0m\u001b[0;34m\u001b[0m\u001b[0m\n",
      "\u001b[0;32m<ipython-input-104-ad8f1d13f43b>\u001b[0m in \u001b[0;36madd\u001b[0;34m(self, x)\u001b[0m\n\u001b[1;32m     33\u001b[0m     \u001b[0;32mdef\u001b[0m \u001b[0madd\u001b[0m\u001b[0;34m(\u001b[0m\u001b[0mself\u001b[0m\u001b[0;34m,\u001b[0m \u001b[0mx\u001b[0m\u001b[0;34m)\u001b[0m\u001b[0;34m:\u001b[0m\u001b[0;34m\u001b[0m\u001b[0;34m\u001b[0m\u001b[0m\n\u001b[1;32m     34\u001b[0m         \u001b[0mself\u001b[0m\u001b[0;34m.\u001b[0m\u001b[0midxs_points\u001b[0m\u001b[0;34m.\u001b[0m\u001b[0mappend\u001b[0m\u001b[0;34m(\u001b[0m\u001b[0;34m[\u001b[0m\u001b[0mself\u001b[0m\u001b[0;34m.\u001b[0m\u001b[0mid_curr\u001b[0m\u001b[0;34m]\u001b[0m\u001b[0;34m)\u001b[0m\u001b[0;34m\u001b[0m\u001b[0;34m\u001b[0m\u001b[0m\n\u001b[0;32m---> 35\u001b[0;31m         \u001b[0mself\u001b[0m\u001b[0;34m.\u001b[0m\u001b[0mpoints_sum\u001b[0m\u001b[0;34m.\u001b[0m\u001b[0mappend\u001b[0m\u001b[0;34m(\u001b[0m\u001b[0mx\u001b[0m\u001b[0;34m)\u001b[0m\u001b[0;34m\u001b[0m\u001b[0;34m\u001b[0m\u001b[0m\n\u001b[0m\u001b[1;32m     36\u001b[0m         \u001b[0mself\u001b[0m\u001b[0;34m.\u001b[0m\u001b[0mk_list\u001b[0m\u001b[0;34m.\u001b[0m\u001b[0mappend\u001b[0m\u001b[0;34m(\u001b[0m\u001b[0;36m1\u001b[0m\u001b[0;34m)\u001b[0m\u001b[0;34m\u001b[0m\u001b[0;34m\u001b[0m\u001b[0m\n\u001b[1;32m     37\u001b[0m         \u001b[0mself\u001b[0m\u001b[0;34m.\u001b[0m\u001b[0mcenters\u001b[0m\u001b[0;34m.\u001b[0m\u001b[0mappend\u001b[0m\u001b[0;34m(\u001b[0m\u001b[0mx\u001b[0m\u001b[0;34m)\u001b[0m\u001b[0;34m\u001b[0m\u001b[0;34m\u001b[0m\u001b[0m\n",
      "\u001b[0;31mAttributeError\u001b[0m: 'numpy.ndarray' object has no attribute 'append'"
     ]
    }
   ],
   "source": [
    "for x in X:\n",
    "    x = x / np.linalg.norm(x)\n",
    "    L.add(x)"
   ]
  },
  {
   "cell_type": "code",
   "execution_count": 13,
   "metadata": {},
   "outputs": [
    {
     "data": {
      "text/plain": [
       "5"
      ]
     },
     "execution_count": 13,
     "metadata": {},
     "output_type": "execute_result"
    }
   ],
   "source": []
  },
  {
   "cell_type": "code",
   "execution_count": 14,
   "metadata": {},
   "outputs": [
    {
     "data": {
      "text/plain": [
       "[4, 6]"
      ]
     },
     "execution_count": 14,
     "metadata": {},
     "output_type": "execute_result"
    }
   ],
   "source": []
  },
  {
   "cell_type": "code",
   "execution_count": 97,
   "metadata": {},
   "outputs": [],
   "source": [
    "a = array([1,2,3])\n",
    "a = a / np.linalg.norm(a)\n",
    "S = array([\n",
    "    [1,2,3],\n",
    "    [2,3,4],\n",
    "    [0,0,2],\n",
    "    [5,5,5],\n",
    "    [-1,-2,-3]\n",
    "])\n",
    "# S = np.divide(S.T , np.linalg.norm(S, axis=1),  )"
   ]
  },
  {
   "cell_type": "code",
   "execution_count": 98,
   "metadata": {},
   "outputs": [
    {
     "data": {
      "text/plain": [
       "(3,)"
      ]
     },
     "execution_count": 98,
     "metadata": {},
     "output_type": "execute_result"
    }
   ],
   "source": [
    "a.shape"
   ]
  },
  {
   "cell_type": "code",
   "execution_count": 99,
   "metadata": {},
   "outputs": [
    {
     "data": {
      "text/plain": [
       "(5, 3)"
      ]
     },
     "execution_count": 99,
     "metadata": {},
     "output_type": "execute_result"
    }
   ],
   "source": [
    "S.shape"
   ]
  },
  {
   "cell_type": "code",
   "execution_count": null,
   "metadata": {},
   "outputs": [],
   "source": []
  },
  {
   "cell_type": "code",
   "execution_count": 60,
   "metadata": {},
   "outputs": [
    {
     "data": {
      "text/plain": [
       "array([ 3.74165739,  5.34522484,  1.60356745,  8.01783726, -3.74165739])"
      ]
     },
     "execution_count": 60,
     "metadata": {},
     "output_type": "execute_result"
    }
   ],
   "source": [
    "np.dot(a, S.T)"
   ]
  },
  {
   "cell_type": "code",
   "execution_count": 28,
   "metadata": {},
   "outputs": [
    {
     "data": {
      "text/plain": [
       "array([5.47722558, 6.164414  , 7.34846923])"
      ]
     },
     "execution_count": 28,
     "metadata": {},
     "output_type": "execute_result"
    }
   ],
   "source": [
    "np.linalg.norm(S, axis=1)"
   ]
  },
  {
   "cell_type": "code",
   "execution_count": 29,
   "metadata": {},
   "outputs": [
    {
     "data": {
      "text/plain": [
       "array([[0.26726124, 0.37139068, 0.        , 0.57735027],\n",
       "       [0.53452248, 0.55708601, 0.        , 0.57735027],\n",
       "       [0.80178373, 0.74278135, 1.        , 0.57735027]])"
      ]
     },
     "execution_count": 29,
     "metadata": {},
     "output_type": "execute_result"
    }
   ],
   "source": [
    "np.divide(S.T , np.linalg.norm(S, axis=1),  )"
   ]
  },
  {
   "cell_type": "code",
   "execution_count": null,
   "metadata": {},
   "outputs": [],
   "source": []
  },
  {
   "cell_type": "code",
   "execution_count": null,
   "metadata": {},
   "outputs": [],
   "source": []
  },
  {
   "cell_type": "code",
   "execution_count": 38,
   "metadata": {},
   "outputs": [],
   "source": [
    "S = array([\n",
    "    [1,2,3],\n",
    "    [2,3,4],\n",
    "    [0,0,2],\n",
    "    [5,5,5],\n",
    "    [-1,-2,-3]\n",
    "])\n",
    "S = np.divide(S.T , np.linalg.norm(S, axis=1),  )"
   ]
  },
  {
   "cell_type": "code",
   "execution_count": 46,
   "metadata": {},
   "outputs": [
    {
     "data": {
      "text/plain": [
       "array([[ 0.        ,  0.99258333,  0.80178373,  0.9258201 , -1.        ],\n",
       "       [ 0.99258333,  0.        ,  0.74278135,  0.96490128, -0.99258333],\n",
       "       [ 0.80178373,  0.74278135,  0.        ,  0.57735027, -0.80178373],\n",
       "       [ 0.9258201 ,  0.96490128,  0.57735027,  0.        , -0.9258201 ],\n",
       "       [-1.        , -0.99258333, -0.80178373, -0.9258201 ,  0.        ]])"
      ]
     },
     "execution_count": 46,
     "metadata": {},
     "output_type": "execute_result"
    }
   ],
   "source": [
    "A = np.dot(S.T, S)\n",
    "A[np.arange(len(A)), np.arange(len(A))] = 0\n",
    "A"
   ]
  },
  {
   "cell_type": "code",
   "execution_count": 53,
   "metadata": {},
   "outputs": [
    {
     "data": {
      "text/plain": [
       "False"
      ]
     },
     "execution_count": 53,
     "metadata": {},
     "output_type": "execute_result"
    }
   ],
   "source": [
    "np.where( A > 1.9)[0].any()"
   ]
  },
  {
   "cell_type": "code",
   "execution_count": 45,
   "metadata": {},
   "outputs": [
    {
     "ename": "NameError",
     "evalue": "name 'A' is not defined",
     "output_type": "error",
     "traceback": [
      "\u001b[0;31m---------------------------------------------------------------------------\u001b[0m",
      "\u001b[0;31mNameError\u001b[0m                                 Traceback (most recent call last)",
      "\u001b[0;32m<ipython-input-45-c23d3f400b5b>\u001b[0m in \u001b[0;36m<module>\u001b[0;34m\u001b[0m\n\u001b[0;32m----> 1\u001b[0;31m \u001b[0mA\u001b[0m\u001b[0;34m.\u001b[0m\u001b[0mdiag\u001b[0m\u001b[0;34m(\u001b[0m\u001b[0;34m)\u001b[0m\u001b[0;34m\u001b[0m\u001b[0;34m\u001b[0m\u001b[0m\n\u001b[0m",
      "\u001b[0;31mNameError\u001b[0m: name 'A' is not defined"
     ]
    }
   ],
   "source": []
  },
  {
   "cell_type": "code",
   "execution_count": null,
   "metadata": {},
   "outputs": [],
   "source": []
  },
  {
   "cell_type": "code",
   "execution_count": 62,
   "metadata": {},
   "outputs": [],
   "source": [
    "a = array([True, False, True, False,])"
   ]
  },
  {
   "cell_type": "code",
   "execution_count": 63,
   "metadata": {},
   "outputs": [
    {
     "data": {
      "text/plain": [
       "(array([0, 2]),)"
      ]
     },
     "execution_count": 63,
     "metadata": {},
     "output_type": "execute_result"
    }
   ],
   "source": [
    "np.where(a)"
   ]
  },
  {
   "cell_type": "code",
   "execution_count": 57,
   "metadata": {},
   "outputs": [
    {
     "data": {
      "text/plain": [
       "array([1, 5, 6, 7, 8])"
      ]
     },
     "execution_count": 57,
     "metadata": {},
     "output_type": "execute_result"
    }
   ],
   "source": [
    "a"
   ]
  },
  {
   "cell_type": "code",
   "execution_count": null,
   "metadata": {},
   "outputs": [],
   "source": []
  },
  {
   "cell_type": "code",
   "execution_count": null,
   "metadata": {},
   "outputs": [],
   "source": []
  }
 ],
 "metadata": {
  "kernelspec": {
   "display_name": "Python [conda env:.conda-py36] *",
   "language": "python",
   "name": "conda-env-.conda-py36-py"
  },
  "language_info": {
   "codemirror_mode": {
    "name": "ipython",
    "version": 3
   },
   "file_extension": ".py",
   "mimetype": "text/x-python",
   "name": "python",
   "nbconvert_exporter": "python",
   "pygments_lexer": "ipython3",
   "version": "3.6.8"
  }
 },
 "nbformat": 4,
 "nbformat_minor": 2
}
