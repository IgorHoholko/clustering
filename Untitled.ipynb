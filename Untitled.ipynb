{
 "cells": [
  {
   "cell_type": "code",
   "execution_count": 203,
   "metadata": {},
   "outputs": [],
   "source": [
    "import numpy as np\n",
    "from numpy import array\n",
    "from scipy.spatial.distance import cosine, cdist\n",
    "\n",
    "from graph import Graph\n",
    "\n",
    "import operator\n",
    "import pickle\n",
    "import os\n",
    "import re\n",
    "\n",
    "import warnings\n",
    "warnings.filterwarnings('ignore')"
   ]
  },
  {
   "cell_type": "code",
   "execution_count": 67,
   "metadata": {},
   "outputs": [],
   "source": [
    "def load_features(path_to_features):\n",
    "    FEATURES_DIR = path_to_features\n",
    "    def _extract_id(pkl):\n",
    "        pkl_pattern = \"_([0-9]+)_\"\n",
    "        return int(re.findall(pkl_pattern, pkl)[0])\n",
    "\n",
    "\n",
    "    pkls_names = os.listdir(FEATURES_DIR)\n",
    "    pkls_ids = []\n",
    "    X = None\n",
    "\n",
    "    for pkl in pkls_names:\n",
    "        pkls_ids.append(_extract_id(pkl))\n",
    "\n",
    "\n",
    "    pkls_names = [k for k, v in sorted(zip(pkls_names, pkls_ids), key=operator.itemgetter(1))]\n",
    "\n",
    "    for pkl in pkls_names:\n",
    "        path_to_pickle_file = os.path.join(FEATURES_DIR, pkl)\n",
    "        with open(path_to_pickle_file, 'rb') as pickle_file:\n",
    "            x = pickle.load(pickle_file)\n",
    "            if X is not None:\n",
    "                X = np.vstack((X, x))\n",
    "            else:\n",
    "                X = x\n",
    "\n",
    "    return np.array(X)"
   ]
  },
  {
   "cell_type": "code",
   "execution_count": null,
   "metadata": {},
   "outputs": [],
   "source": []
  },
  {
   "cell_type": "code",
   "execution_count": null,
   "metadata": {},
   "outputs": [],
   "source": []
  },
  {
   "cell_type": "code",
   "execution_count": 75,
   "metadata": {},
   "outputs": [
    {
     "data": {
      "text/plain": [
       "(173301, 2048)"
      ]
     },
     "execution_count": 75,
     "metadata": {},
     "output_type": "execute_result"
    }
   ],
   "source": [
    "X_ = load_features('./features/')\n",
    "X_.shape"
   ]
  },
  {
   "cell_type": "code",
   "execution_count": 343,
   "metadata": {},
   "outputs": [],
   "source": [
    "T_c = .7\n",
    "T_s = .7\n",
    "T_p = .1\n",
    "\n",
    "\n",
    "\n",
    "class SubClusters:\n",
    "    def __init__(self):\n",
    "        self.id_curr = None\n",
    "        self.idxs_points = None\n",
    "        self.points_sum = None\n",
    "        self.k_list = None\n",
    "        self.centers = None\n",
    "    \n",
    "    def init(self, x):\n",
    "        self.id_curr = 1\n",
    "        self.idxs_points = [[0]]\n",
    "        self.points_sum = array([x])\n",
    "        self.k_list = array([1])\n",
    "        self.centers = array([x])\n",
    "        return self\n",
    "    \n",
    "        \n",
    "    def update(self, i, x):\n",
    "        self.idxs_points[i].append(self.id_curr)\n",
    "        self.points_sum[i] += x\n",
    "        self.k_list[i] += 1\n",
    "        self.centers[i] = self._recompute_center(self.points_sum[i], self.k_list[i])\n",
    "        self.id_curr += 1\n",
    "        return self\n",
    "        \n",
    "        \n",
    "    def add(self, x):\n",
    "        self.idxs_points.append([self.id_curr])\n",
    "        self.points_sum = np.vstack((self.points_sum, x))\n",
    "        self.k_list = np.append(self.k_list , 1)\n",
    "        self.centers = np.vstack((self.centers, x))\n",
    "        self.id_curr += 1\n",
    "        return self\n",
    "        \n",
    "        \n",
    "    def join(self, i, j):\n",
    "        p_new = self.points_sum[i] + self.points_sum[j]\n",
    "        k_new = self.k_list[i] + self.k_list[j]\n",
    "        center_new = self._recompute_center(p_new, k_new)\n",
    "        idxs_new = self.idxs_points[i] + self.idxs_points[j]\n",
    "        \n",
    "        self.points_sum[i] = p_new\n",
    "        self.k_list[i] = k_new\n",
    "        self.centers[i] = center_new\n",
    "        self.idxs_points[i] = idxs_new\n",
    "        \n",
    "        np.delete(self.points_sum, j)\n",
    "        np.delete(self.k_list, j)\n",
    "        np.delete(self.centers, j)\n",
    "        self.idxs_points.pop(j)\n",
    "        return self\n",
    "        \n",
    "        \n",
    "    def _recompute_center(self, points_sum, k):\n",
    "        new_c = points_sum / np.sqrt( k**2*T_c**2 + k*(1-T_c**2) )\n",
    "        return new_c\n",
    "        \n",
    "\n",
    "\n",
    "class Links:\n",
    "    \n",
    "    def __init__(self, ):\n",
    "        \n",
    "        self.G = Graph()\n",
    "        self.SubClusters = SubClusters()\n",
    "        \n",
    "        \n",
    "    def __add__(self, x):\n",
    "        pass\n",
    "    \n",
    "    def __s_k_k(self, k, k_):\n",
    "        return 1 / np.sqrt( (1 + (1/T_c**2-1)/k) * (1 + (1/T_c**2-1)/k_) )\n",
    "        \n",
    "    def __s_k_approximate(self, k, k_ = 1):\n",
    "        return T_c**2  +  (T_p-T_c**2) * (self.__s_k_k(k, k_)-T_c**2) / (1-T_c**2)\n",
    "    \n",
    "    \n",
    "    def __check_subclusters(self):\n",
    "        print('\\n')\n",
    "        while True:\n",
    "            centers = self.SubClusters.centers\n",
    "            A = np.dot(centers, centers.T)\n",
    "            print(A.max(), A.min(), T_s)\n",
    "            print(A.shape)\n",
    "              \n",
    "            A[np.arange(len(A)), np.arange(len(A))] = 0\n",
    "            idxs = np.where(A >= T_s)\n",
    "\n",
    "            if idxs[0].any():\n",
    "                i = idxs[0][0]\n",
    "                j = idxs[0][1]\n",
    "                i_ = min(i, j)\n",
    "                j_ = max(i, j)\n",
    "                self.SubClusters.join(i_, j_)\n",
    "                \n",
    "                v_be_affected = self.G.AM[j_]\n",
    "                v_be_affected = np.where(v_be_affected != 0)\n",
    "                v_be_affected[np.where(v_be_affected > j_)] -=1\n",
    "                self.G.remove_v(j_)\n",
    "                \n",
    "                C = self.SubClusters.centers[i_]\n",
    "                K = self.SubClusters.k_list[i_]\n",
    "                affected_centers = self.SubClusters.centers[v_be_affected]\n",
    "                affected_K = self.SubClusters.k_list[v_be_affected]\n",
    "                \n",
    "                D = [np.dot(a, affected_centers.T)]\n",
    "                print(d)\n",
    "                print([self.__s_k_approximate(K, k) for k in affected_K])\n",
    "                idxs_connected = [d >= self.__s_k_approximate(K, k) for k in affected_K]\n",
    "                idxs_connected = np.where(idxs_connected)\n",
    "                self.G.add_adj({i_: idxs_connected})\n",
    "                \n",
    "            else:\n",
    "                break\n",
    "        \n",
    "    \n",
    "    def _add(self, centers, x):\n",
    "        J = np.dot(x, centers.T).argmax()\n",
    "        C = centers[J]\n",
    "        # !!!!check for norm\n",
    "        d = np.dot(C, x)\n",
    "        print(\"d\", d)\n",
    "        # (20) if add to exist subcluster\n",
    "        if d >= T_s:\n",
    "            # add\n",
    "            self.SubClusters.update(J, x)\n",
    "            self.__check_subclusters()\n",
    "        else:\n",
    "            print(\"NEW!!!\")\n",
    "            # create new subcluster\n",
    "            self.SubClusters.add(x)\n",
    "            n = len(self.SubClusters.centers)\n",
    "            k = self.SubClusters.k_list[J]\n",
    "            i = n - 1\n",
    "            self.G.add_v(i)\n",
    "            \n",
    "            if d >= self.__s_k_approximate(k):\n",
    "                self.G.add_adj( { J:i } )\n",
    "        \n",
    "    \n",
    "    def add(self, x):\n",
    "        centers = self.SubClusters.centers\n",
    "        if not hasattr(centers, '__len__'):\n",
    "            self.SubClusters.init(x)\n",
    "            self.G.add_v(0)\n",
    "        \n",
    "        else:\n",
    "            self._add(centers, x)\n"
   ]
  },
  {
   "cell_type": "code",
   "execution_count": 344,
   "metadata": {},
   "outputs": [],
   "source": [
    "X = X_[:790]"
   ]
  },
  {
   "cell_type": "code",
   "execution_count": 345,
   "metadata": {},
   "outputs": [
    {
     "name": "stdout",
     "output_type": "stream",
     "text": [
      "{'node_color': 'black', 'font_color': 'w', 'font_weight': 'bold'}\n"
     ]
    }
   ],
   "source": [
    "L = Links()"
   ]
  },
  {
   "cell_type": "code",
   "execution_count": 346,
   "metadata": {},
   "outputs": [],
   "source": [
    "L.SubClusters.k_list"
   ]
  },
  {
   "cell_type": "code",
   "execution_count": 347,
   "metadata": {},
   "outputs": [],
   "source": [
    "L.SubClusters.idxs_points"
   ]
  },
  {
   "cell_type": "code",
   "execution_count": 348,
   "metadata": {},
   "outputs": [
    {
     "name": "stdout",
     "output_type": "stream",
     "text": [
      "d 0.9932689\n",
      "\n",
      "\n",
      "1.3377644 1.3377644 0.7\n",
      "(1, 1)\n",
      "d 1.1401048\n",
      "\n",
      "\n",
      "1.5021534 1.5021534 0.7\n",
      "(1, 1)\n",
      "d 1.215455\n",
      "\n",
      "\n",
      "1.6039913 1.6039913 0.7\n",
      "(1, 1)\n",
      "d 1.257072\n",
      "\n",
      "\n",
      "1.6722977 1.6722977 0.7\n",
      "(1, 1)\n",
      "d 1.2829459\n",
      "\n",
      "\n",
      "1.7208306 1.7208306 0.7\n",
      "(1, 1)\n",
      "d 1.294129\n",
      "\n",
      "\n",
      "1.7547878 1.7547878 0.7\n",
      "(1, 1)\n",
      "d 1.3042508\n",
      "\n",
      "\n",
      "1.7803622 1.7803622 0.7\n",
      "(1, 1)\n",
      "d 1.2923982\n",
      "\n",
      "\n",
      "1.7950252 1.7950252 0.7\n",
      "(1, 1)\n",
      "d 1.2668791\n",
      "\n",
      "\n",
      "1.7993373 1.7993373 0.7\n",
      "(1, 1)\n",
      "d 1.2526563\n",
      "\n",
      "\n",
      "1.7992514 1.7992514 0.7\n",
      "(1, 1)\n",
      "d 1.0896572\n",
      "\n",
      "\n",
      "1.7648418 1.7648418 0.7\n",
      "(1, 1)\n",
      "d 1.0922585\n",
      "\n",
      "\n",
      "1.7381178 1.7381178 0.7\n",
      "(1, 1)\n",
      "d 1.065872\n",
      "\n",
      "\n",
      "1.7117441 1.7117441 0.7\n",
      "(1, 1)\n",
      "d 0.83919656\n",
      "\n",
      "\n",
      "1.6511151 1.6511151 0.7\n",
      "(1, 1)\n",
      "d 0.8154751\n",
      "\n",
      "\n",
      "1.5971227 1.5971227 0.7\n",
      "(1, 1)\n",
      "d 0.8432041\n",
      "\n",
      "\n",
      "1.5562153 1.5562153 0.7\n",
      "(1, 1)\n",
      "d 0.84971\n",
      "\n",
      "\n",
      "1.5225736 1.5225736 0.7\n",
      "(1, 1)\n",
      "d 0.8824388\n",
      "\n",
      "\n",
      "1.4984047 1.4984047 0.7\n",
      "(1, 1)\n",
      "d 0.83084416\n",
      "\n",
      "\n",
      "1.4707569 1.4707569 0.7\n",
      "(1, 1)\n",
      "d 0.8834338\n",
      "\n",
      "\n",
      "1.4534466 1.4534466 0.7\n",
      "(1, 1)\n",
      "d 0.85922575\n",
      "\n",
      "\n",
      "1.4353867 1.4353867 0.7\n",
      "(1, 1)\n",
      "d 0.8699813\n",
      "\n",
      "\n",
      "1.4207696 1.4207696 0.7\n",
      "(1, 1)\n",
      "d 0.8758039\n",
      "\n",
      "\n",
      "1.4085004 1.4085004 0.7\n",
      "(1, 1)\n",
      "d 0.85377187\n",
      "\n",
      "\n",
      "1.395227 1.395227 0.7\n",
      "(1, 1)\n",
      "d 0.7787831\n",
      "\n",
      "\n",
      "1.3756065 1.3756065 0.7\n",
      "(1, 1)\n",
      "d 0.7643635\n",
      "\n",
      "\n",
      "1.3565979 1.3565979 0.7\n",
      "(1, 1)\n",
      "d 0.78495944\n",
      "\n",
      "\n",
      "1.3415034 1.3415034 0.7\n",
      "(1, 1)\n",
      "d 0.75226736\n",
      "\n",
      "\n",
      "1.3248235 1.3248235 0.7\n",
      "(1, 1)\n",
      "d 0.7395213\n",
      "\n",
      "\n",
      "1.3085673 1.3085673 0.7\n",
      "(1, 1)\n",
      "d 0.7281573\n",
      "\n",
      "\n",
      "1.2928042 1.2928042 0.7\n",
      "(1, 1)\n",
      "d 0.67048216\n",
      "NEW!!!\n",
      "d 0.92476726\n",
      "\n",
      "\n",
      "1.2928044 0.75992525 0.7\n",
      "(2, 2)\n"
     ]
    },
    {
     "ename": "TypeError",
     "evalue": "tuple indices must be integers or slices, not tuple",
     "output_type": "error",
     "traceback": [
      "\u001b[0;31m---------------------------------------------------------------------------\u001b[0m",
      "\u001b[0;31mTypeError\u001b[0m                                 Traceback (most recent call last)",
      "\u001b[0;32m<ipython-input-348-e0f2411f095d>\u001b[0m in \u001b[0;36m<module>\u001b[0;34m\u001b[0m\n\u001b[1;32m      1\u001b[0m \u001b[0;32mfor\u001b[0m \u001b[0mx\u001b[0m \u001b[0;32min\u001b[0m \u001b[0mX\u001b[0m\u001b[0;34m:\u001b[0m\u001b[0;34m\u001b[0m\u001b[0;34m\u001b[0m\u001b[0m\n\u001b[1;32m      2\u001b[0m     \u001b[0mx\u001b[0m \u001b[0;34m=\u001b[0m \u001b[0mx\u001b[0m \u001b[0;34m/\u001b[0m \u001b[0mnp\u001b[0m\u001b[0;34m.\u001b[0m\u001b[0mlinalg\u001b[0m\u001b[0;34m.\u001b[0m\u001b[0mnorm\u001b[0m\u001b[0;34m(\u001b[0m\u001b[0mx\u001b[0m\u001b[0;34m)\u001b[0m\u001b[0;34m\u001b[0m\u001b[0;34m\u001b[0m\u001b[0m\n\u001b[0;32m----> 3\u001b[0;31m     \u001b[0mL\u001b[0m\u001b[0;34m.\u001b[0m\u001b[0madd\u001b[0m\u001b[0;34m(\u001b[0m\u001b[0mx\u001b[0m\u001b[0;34m)\u001b[0m\u001b[0;34m\u001b[0m\u001b[0;34m\u001b[0m\u001b[0m\n\u001b[0m",
      "\u001b[0;32m<ipython-input-343-f6ca2e13bd92>\u001b[0m in \u001b[0;36madd\u001b[0;34m(self, x)\u001b[0m\n\u001b[1;32m    152\u001b[0m \u001b[0;34m\u001b[0m\u001b[0m\n\u001b[1;32m    153\u001b[0m         \u001b[0;32melse\u001b[0m\u001b[0;34m:\u001b[0m\u001b[0;34m\u001b[0m\u001b[0;34m\u001b[0m\u001b[0m\n\u001b[0;32m--> 154\u001b[0;31m             \u001b[0mself\u001b[0m\u001b[0;34m.\u001b[0m\u001b[0m_add\u001b[0m\u001b[0;34m(\u001b[0m\u001b[0mcenters\u001b[0m\u001b[0;34m,\u001b[0m \u001b[0mx\u001b[0m\u001b[0;34m)\u001b[0m\u001b[0;34m\u001b[0m\u001b[0;34m\u001b[0m\u001b[0m\n\u001b[0m",
      "\u001b[0;32m<ipython-input-343-f6ca2e13bd92>\u001b[0m in \u001b[0;36m_add\u001b[0;34m(self, centers, x)\u001b[0m\n\u001b[1;32m    131\u001b[0m             \u001b[0;31m# add\u001b[0m\u001b[0;34m\u001b[0m\u001b[0;34m\u001b[0m\u001b[0;34m\u001b[0m\u001b[0m\n\u001b[1;32m    132\u001b[0m             \u001b[0mself\u001b[0m\u001b[0;34m.\u001b[0m\u001b[0mSubClusters\u001b[0m\u001b[0;34m.\u001b[0m\u001b[0mupdate\u001b[0m\u001b[0;34m(\u001b[0m\u001b[0mJ\u001b[0m\u001b[0;34m,\u001b[0m \u001b[0mx\u001b[0m\u001b[0;34m)\u001b[0m\u001b[0;34m\u001b[0m\u001b[0;34m\u001b[0m\u001b[0m\n\u001b[0;32m--> 133\u001b[0;31m             \u001b[0mself\u001b[0m\u001b[0;34m.\u001b[0m\u001b[0m__check_subclusters\u001b[0m\u001b[0;34m(\u001b[0m\u001b[0;34m)\u001b[0m\u001b[0;34m\u001b[0m\u001b[0;34m\u001b[0m\u001b[0m\n\u001b[0m\u001b[1;32m    134\u001b[0m         \u001b[0;32melse\u001b[0m\u001b[0;34m:\u001b[0m\u001b[0;34m\u001b[0m\u001b[0;34m\u001b[0m\u001b[0m\n\u001b[1;32m    135\u001b[0m             \u001b[0mprint\u001b[0m\u001b[0;34m(\u001b[0m\u001b[0;34m\"NEW!!!\"\u001b[0m\u001b[0;34m)\u001b[0m\u001b[0;34m\u001b[0m\u001b[0;34m\u001b[0m\u001b[0m\n",
      "\u001b[0;32m<ipython-input-343-f6ca2e13bd92>\u001b[0m in \u001b[0;36m__check_subclusters\u001b[0;34m(self)\u001b[0m\n\u001b[1;32m    102\u001b[0m                 \u001b[0mv_be_affected\u001b[0m \u001b[0;34m=\u001b[0m \u001b[0mself\u001b[0m\u001b[0;34m.\u001b[0m\u001b[0mG\u001b[0m\u001b[0;34m.\u001b[0m\u001b[0mAM\u001b[0m\u001b[0;34m[\u001b[0m\u001b[0mj_\u001b[0m\u001b[0;34m]\u001b[0m\u001b[0;34m\u001b[0m\u001b[0;34m\u001b[0m\u001b[0m\n\u001b[1;32m    103\u001b[0m                 \u001b[0mv_be_affected\u001b[0m \u001b[0;34m=\u001b[0m \u001b[0mnp\u001b[0m\u001b[0;34m.\u001b[0m\u001b[0mwhere\u001b[0m\u001b[0;34m(\u001b[0m\u001b[0mv_be_affected\u001b[0m \u001b[0;34m!=\u001b[0m \u001b[0;36m0\u001b[0m\u001b[0;34m)\u001b[0m\u001b[0;34m\u001b[0m\u001b[0;34m\u001b[0m\u001b[0m\n\u001b[0;32m--> 104\u001b[0;31m                 \u001b[0mv_be_affected\u001b[0m\u001b[0;34m[\u001b[0m\u001b[0mnp\u001b[0m\u001b[0;34m.\u001b[0m\u001b[0mwhere\u001b[0m\u001b[0;34m(\u001b[0m\u001b[0mv_be_affected\u001b[0m \u001b[0;34m>\u001b[0m \u001b[0mj_\u001b[0m\u001b[0;34m)\u001b[0m\u001b[0;34m]\u001b[0m \u001b[0;34m-=\u001b[0m\u001b[0;36m1\u001b[0m\u001b[0;34m\u001b[0m\u001b[0;34m\u001b[0m\u001b[0m\n\u001b[0m\u001b[1;32m    105\u001b[0m                 \u001b[0mself\u001b[0m\u001b[0;34m.\u001b[0m\u001b[0mG\u001b[0m\u001b[0;34m.\u001b[0m\u001b[0mremove_v\u001b[0m\u001b[0;34m(\u001b[0m\u001b[0mj_\u001b[0m\u001b[0;34m)\u001b[0m\u001b[0;34m\u001b[0m\u001b[0;34m\u001b[0m\u001b[0m\n\u001b[1;32m    106\u001b[0m \u001b[0;34m\u001b[0m\u001b[0m\n",
      "\u001b[0;31mTypeError\u001b[0m: tuple indices must be integers or slices, not tuple"
     ]
    }
   ],
   "source": [
    "for x in X:\n",
    "    x = x / np.linalg.norm(x)\n",
    "    L.add(x)"
   ]
  },
  {
   "cell_type": "code",
   "execution_count": 340,
   "metadata": {},
   "outputs": [
    {
     "data": {
      "image/png": "[encoded data removed]",
      "text/plain": [
       "<Figure size 432x288 with 1 Axes>"
      ]
     },
     "metadata": {},
     "output_type": "display_data"
    }
   ],
   "source": [
    "L.G.draw()"
   ]
  },
  {
   "cell_type": "code",
   "execution_count": 341,
   "metadata": {},
   "outputs": [],
   "source": [
    "labels = L.SubClusters.idxs_points "
   ]
  },
  {
   "cell_type": "code",
   "execution_count": 342,
   "metadata": {},
   "outputs": [
    {
     "name": "stdout",
     "output_type": "stream",
     "text": [
      "0 -- [ 1  2  3  4  5  6  7  8  9 10 11 12 13 14 15 16 17 18 19 20 21 22 23 24\n",
      " 25 26 27 28 29 30 31 32 33] \n",
      "\n"
     ]
    }
   ],
   "source": [
    "for i, line in enumerate(labels):\n",
    "    l = array(line) + 1\n",
    "    print(f\"{i} -- {l} \\n\")\n",
    "    "
   ]
  },
  {
   "cell_type": "code",
   "execution_count": 98,
   "metadata": {},
   "outputs": [
    {
     "data": {
      "text/plain": [
       "(3,)"
      ]
     },
     "execution_count": 98,
     "metadata": {},
     "output_type": "execute_result"
    }
   ],
   "source": [
    "a.shape"
   ]
  },
  {
   "cell_type": "code",
   "execution_count": 99,
   "metadata": {},
   "outputs": [
    {
     "data": {
      "text/plain": [
       "(5, 3)"
      ]
     },
     "execution_count": 99,
     "metadata": {},
     "output_type": "execute_result"
    }
   ],
   "source": [
    "S.shape"
   ]
  },
  {
   "cell_type": "code",
   "execution_count": null,
   "metadata": {},
   "outputs": [],
   "source": []
  },
  {
   "cell_type": "code",
   "execution_count": 60,
   "metadata": {},
   "outputs": [
    {
     "data": {
      "text/plain": [
       "array([ 3.74165739,  5.34522484,  1.60356745,  8.01783726, -3.74165739])"
      ]
     },
     "execution_count": 60,
     "metadata": {},
     "output_type": "execute_result"
    }
   ],
   "source": [
    "np.dot(a, S.T)"
   ]
  },
  {
   "cell_type": "code",
   "execution_count": 28,
   "metadata": {},
   "outputs": [
    {
     "data": {
      "text/plain": [
       "array([5.47722558, 6.164414  , 7.34846923])"
      ]
     },
     "execution_count": 28,
     "metadata": {},
     "output_type": "execute_result"
    }
   ],
   "source": [
    "np.linalg.norm(S, axis=1)"
   ]
  },
  {
   "cell_type": "code",
   "execution_count": 29,
   "metadata": {},
   "outputs": [
    {
     "data": {
      "text/plain": [
       "array([[0.26726124, 0.37139068, 0.        , 0.57735027],\n",
       "       [0.53452248, 0.55708601, 0.        , 0.57735027],\n",
       "       [0.80178373, 0.74278135, 1.        , 0.57735027]])"
      ]
     },
     "execution_count": 29,
     "metadata": {},
     "output_type": "execute_result"
    }
   ],
   "source": [
    "np.divide(S.T , np.linalg.norm(S, axis=1),  )"
   ]
  },
  {
   "cell_type": "code",
   "execution_count": null,
   "metadata": {},
   "outputs": [],
   "source": []
  },
  {
   "cell_type": "code",
   "execution_count": null,
   "metadata": {},
   "outputs": [],
   "source": []
  },
  {
   "cell_type": "code",
   "execution_count": 38,
   "metadata": {},
   "outputs": [],
   "source": [
    "S = array([\n",
    "    [1,2,3],\n",
    "    [2,3,4],\n",
    "    [0,0,2],\n",
    "    [5,5,5],\n",
    "    [-1,-2,-3]\n",
    "])\n",
    "S = np.divide(S.T , np.linalg.norm(S, axis=1),  )"
   ]
  },
  {
   "cell_type": "code",
   "execution_count": 46,
   "metadata": {},
   "outputs": [
    {
     "data": {
      "text/plain": [
       "array([[ 0.        ,  0.99258333,  0.80178373,  0.9258201 , -1.        ],\n",
       "       [ 0.99258333,  0.        ,  0.74278135,  0.96490128, -0.99258333],\n",
       "       [ 0.80178373,  0.74278135,  0.        ,  0.57735027, -0.80178373],\n",
       "       [ 0.9258201 ,  0.96490128,  0.57735027,  0.        , -0.9258201 ],\n",
       "       [-1.        , -0.99258333, -0.80178373, -0.9258201 ,  0.        ]])"
      ]
     },
     "execution_count": 46,
     "metadata": {},
     "output_type": "execute_result"
    }
   ],
   "source": [
    "A = np.dot(S.T, S)\n",
    "A[np.arange(len(A)), np.arange(len(A))] = 0\n",
    "A"
   ]
  },
  {
   "cell_type": "code",
   "execution_count": 53,
   "metadata": {},
   "outputs": [
    {
     "data": {
      "text/plain": [
       "False"
      ]
     },
     "execution_count": 53,
     "metadata": {},
     "output_type": "execute_result"
    }
   ],
   "source": [
    "np.where( A > 1.9)[0].any()"
   ]
  },
  {
   "cell_type": "code",
   "execution_count": 45,
   "metadata": {},
   "outputs": [
    {
     "ename": "NameError",
     "evalue": "name 'A' is not defined",
     "output_type": "error",
     "traceback": [
      "\u001b[0;31m---------------------------------------------------------------------------\u001b[0m",
      "\u001b[0;31mNameError\u001b[0m                                 Traceback (most recent call last)",
      "\u001b[0;32m<ipython-input-45-c23d3f400b5b>\u001b[0m in \u001b[0;36m<module>\u001b[0;34m\u001b[0m\n\u001b[0;32m----> 1\u001b[0;31m \u001b[0mA\u001b[0m\u001b[0;34m.\u001b[0m\u001b[0mdiag\u001b[0m\u001b[0;34m(\u001b[0m\u001b[0;34m)\u001b[0m\u001b[0;34m\u001b[0m\u001b[0;34m\u001b[0m\u001b[0m\n\u001b[0m",
      "\u001b[0;31mNameError\u001b[0m: name 'A' is not defined"
     ]
    }
   ],
   "source": []
  },
  {
   "cell_type": "code",
   "execution_count": null,
   "metadata": {},
   "outputs": [],
   "source": []
  },
  {
   "cell_type": "code",
   "execution_count": null,
   "metadata": {},
   "outputs": [],
   "source": []
  },
  {
   "cell_type": "code",
   "execution_count": null,
   "metadata": {},
   "outputs": [],
   "source": []
  },
  {
   "cell_type": "code",
   "execution_count": null,
   "metadata": {},
   "outputs": [],
   "source": []
  },
  {
   "cell_type": "code",
   "execution_count": null,
   "metadata": {},
   "outputs": [],
   "source": []
  },
  {
   "cell_type": "code",
   "execution_count": null,
   "metadata": {},
   "outputs": [],
   "source": []
  },
  {
   "cell_type": "code",
   "execution_count": null,
   "metadata": {},
   "outputs": [],
   "source": []
  },
  {
   "cell_type": "code",
   "execution_count": null,
   "metadata": {},
   "outputs": [],
   "source": []
  },
  {
   "cell_type": "code",
   "execution_count": null,
   "metadata": {},
   "outputs": [],
   "source": []
  },
  {
   "cell_type": "code",
   "execution_count": null,
   "metadata": {},
   "outputs": [],
   "source": []
  },
  {
   "cell_type": "code",
   "execution_count": null,
   "metadata": {},
   "outputs": [],
   "source": []
  },
  {
   "cell_type": "code",
   "execution_count": null,
   "metadata": {},
   "outputs": [],
   "source": []
  },
  {
   "cell_type": "code",
   "execution_count": null,
   "metadata": {},
   "outputs": [],
   "source": []
  },
  {
   "cell_type": "code",
   "execution_count": 222,
   "metadata": {},
   "outputs": [],
   "source": [
    "import cv2\n",
    "import matplotlib.pyplot as plt"
   ]
  },
  {
   "cell_type": "code",
   "execution_count": 284,
   "metadata": {},
   "outputs": [],
   "source": [
    "\n",
    "out.write(frame)\n",
    "out.release() "
   ]
  },
  {
   "cell_type": "code",
   "execution_count": 286,
   "metadata": {},
   "outputs": [],
   "source": [
    "path = '/media/ihoholko/HDD/Avatar_FHD.mp4'\n",
    "\n",
    "\n",
    "out = cv2.VideoWriter('./output.avi', 0, 1., (1280, 720 ))\n",
    "\n",
    "# font \n",
    "font = cv2.FONT_HERSHEY_SIMPLEX \n",
    "# org \n",
    "org = (20, 30)   \n",
    "# fontScale \n",
    "fontScale = 0.7 \n",
    "# Blue color in BGR \n",
    "color = (255, 0, 0)  \n",
    "# Line thickness of 2 px \n",
    "thickness = 2  \n",
    "# Using cv2.putText() method \n",
    "cap = cv2.VideoCapture(path)\n",
    "i = 0\n",
    "\n",
    "\n",
    "while True:\n",
    "    _, frame = cap.read()\n",
    "\n",
    "    frame = cv2.putText(frame, str(i), org, font,  \n",
    "                   fontScale, color, thickness, cv2.LINE_AA)\n",
    "    \n",
    "    i+=1\n",
    "    out.write(frame)\n",
    "    if i == 5000:\n",
    "        break\n",
    "\n",
    "cap.release()\n",
    "cv2.destroyAllWindows()\n",
    "out.release()  "
   ]
  },
  {
   "cell_type": "code",
   "execution_count": null,
   "metadata": {},
   "outputs": [],
   "source": [
    "out = cv2.VideoWriter('output.avi', -1, 1, (720, 1280))"
   ]
  },
  {
   "cell_type": "code",
   "execution_count": 270,
   "metadata": {},
   "outputs": [
    {
     "data": {
      "text/plain": [
       "(720, 1280, 3)"
      ]
     },
     "execution_count": 270,
     "metadata": {},
     "output_type": "execute_result"
    }
   ],
   "source": [
    "frame.shape"
   ]
  },
  {
   "cell_type": "code",
   "execution_count": 269,
   "metadata": {},
   "outputs": [
    {
     "data": {
      "text/plain": [
       "<matplotlib.image.AxesImage at 0x7f82d80f3b70>"
      ]
     },
     "execution_count": 269,
     "metadata": {},
     "output_type": "execute_result"
    },
    {
     "data": {
      "image/png": "[encoded data removed]",
      "text/plain": [
       "<Figure size 1440x1440 with 1 Axes>"
      ]
     },
     "metadata": {
      "needs_background": "light"
     },
     "output_type": "display_data"
    }
   ],
   "source": [
    "plt.figure(figsize=(20, 20))\n",
    "plt.imshow(frame)\n",
    "\n"
   ]
  },
  {
   "cell_type": "code",
   "execution_count": null,
   "metadata": {},
   "outputs": [],
   "source": []
  },
  {
   "cell_type": "code",
   "execution_count": null,
   "metadata": {},
   "outputs": [],
   "source": []
  },
  {
   "cell_type": "code",
   "execution_count": null,
   "metadata": {},
   "outputs": [],
   "source": []
  },
  {
   "cell_type": "code",
   "execution_count": null,
   "metadata": {},
   "outputs": [],
   "source": []
  },
  {
   "cell_type": "code",
   "execution_count": null,
   "metadata": {},
   "outputs": [],
   "source": []
  },
  {
   "cell_type": "code",
   "execution_count": null,
   "metadata": {},
   "outputs": [],
   "source": []
  },
  {
   "cell_type": "code",
   "execution_count": null,
   "metadata": {},
   "outputs": [],
   "source": []
  },
  {
   "cell_type": "code",
   "execution_count": null,
   "metadata": {},
   "outputs": [],
   "source": []
  },
  {
   "cell_type": "code",
   "execution_count": null,
   "metadata": {},
   "outputs": [],
   "source": []
  },
  {
   "cell_type": "code",
   "execution_count": null,
   "metadata": {},
   "outputs": [],
   "source": []
  },
  {
   "cell_type": "code",
   "execution_count": null,
   "metadata": {},
   "outputs": [],
   "source": []
  }
 ],
 "metadata": {
  "kernelspec": {
   "display_name": "Python [conda env:.conda-py36] *",
   "language": "python",
   "name": "conda-env-.conda-py36-py"
  },
  "language_info": {
   "codemirror_mode": {
    "name": "ipython",
    "version": 3
   },
   "file_extension": ".py",
   "mimetype": "text/x-python",
   "name": "python",
   "nbconvert_exporter": "python",
   "pygments_lexer": "ipython3",
   "version": "3.6.8"
  }
 },
 "nbformat": 4,
 "nbformat_minor": 2
}
